{
 "cells": [
  {
   "cell_type": "code",
   "execution_count": 87,
   "id": "e1b68dba-cc36-46a9-af79-09a45ab915e7",
   "metadata": {},
   "outputs": [],
   "source": [
    "from dash import Dash, html, dcc\n",
    "from dash.dependencies import Output, Input\n",
    "import numpy as np\n",
    "import pandas as pd\n",
    "import matplotlib.pyplot as plt\n",
    "import plotly.express as px\n",
    "import plotly.graph_objs as go\n",
    "import os\n",
    "import glob\n"
   ]
  },
  {
   "cell_type": "code",
   "execution_count": 12,
   "id": "6638f56b-521e-467c-8499-75f43ecfd46f",
   "metadata": {},
   "outputs": [],
   "source": [
    "def read_files(folder_path, file_extension):\n",
    "    # Create a file path pattern using glob\n",
    "    pattern = os.path.join(folder_path, f\"*.{file_extension}\")\n",
    "    filenames = []\n",
    "\n",
    "    # Use glob to get a list of files matching the pattern\n",
    "    files = glob.glob(pattern)\n",
    "    for file in files:\n",
    "        filenames.append(file.split(\"\\\\\")[1])\n",
    "\n",
    "    # Return the count of matching files\n",
    "    return filenames\n",
    "\n",
    "# Example usage\n",
    "folder_path = \"C:/Users/user/Documents/GitHub/Automotive_Diagnostics/OBD-II-Dataset\"\n",
    "file_extension = \"csv\"\n",
    "\n",
    "data_files = read_files(folder_path, file_extension)\n",
    "# print(data_files)"
   ]
  },
  {
   "cell_type": "code",
   "execution_count": null,
   "id": "13b4e242-c60d-4e96-9b1f-18feb7941a8e",
   "metadata": {},
   "outputs": [],
   "source": []
  },
  {
   "cell_type": "code",
   "execution_count": 90,
   "id": "f819a620-b4b1-4b80-b922-c49f235a1aee",
   "metadata": {},
   "outputs": [
    {
     "ename": "NameError",
     "evalue": "name 'generate_subplot' is not defined",
     "output_type": "error",
     "traceback": [
      "\u001b[1;31m---------------------------------------------------------------------------\u001b[0m",
      "\u001b[1;31mNameError\u001b[0m                                 Traceback (most recent call last)",
      "Input \u001b[1;32mIn [90]\u001b[0m, in \u001b[0;36m<module>\u001b[1;34m\u001b[0m\n\u001b[0;32m      8\u001b[0m df \u001b[38;5;241m=\u001b[39m df\u001b[38;5;241m.\u001b[39mset_index(\u001b[38;5;124m\"\u001b[39m\u001b[38;5;124mTime\u001b[39m\u001b[38;5;124m\"\u001b[39m)\n\u001b[0;32m      9\u001b[0m df\u001b[38;5;241m.\u001b[39mcolumns \u001b[38;5;241m=\u001b[39m [\u001b[38;5;124m'\u001b[39m\u001b[38;5;124mEngine_Coolant_Temperature\u001b[39m\u001b[38;5;124m'\u001b[39m, \u001b[38;5;124m'\u001b[39m\u001b[38;5;124mIntake_Manifold_Abs_Pressure\u001b[39m\u001b[38;5;124m'\u001b[39m, \u001b[38;5;124m'\u001b[39m\u001b[38;5;124mEngine_RPM\u001b[39m\u001b[38;5;124m'\u001b[39m, \u001b[38;5;124m'\u001b[39m\u001b[38;5;124mVehicle_Speed\u001b[39m\u001b[38;5;124m'\u001b[39m, \u001b[38;5;124m'\u001b[39m\u001b[38;5;124mIntake_Air_Temperature\u001b[39m\u001b[38;5;124m'\u001b[39m, \u001b[38;5;124m'\u001b[39m\u001b[38;5;124mAirFlow_Rate\u001b[39m\u001b[38;5;124m'\u001b[39m, \u001b[38;5;124m'\u001b[39m\u001b[38;5;124mThrottle_Position\u001b[39m\u001b[38;5;124m'\u001b[39m, \u001b[38;5;124m'\u001b[39m\u001b[38;5;124mAir_Temperature\u001b[39m\u001b[38;5;124m'\u001b[39m, \u001b[38;5;124m'\u001b[39m\u001b[38;5;124mAcc_Pedal_Pos_D\u001b[39m\u001b[38;5;124m'\u001b[39m, \u001b[38;5;124m'\u001b[39m\u001b[38;5;124mAcc_Pedal_Pos_E\u001b[39m\u001b[38;5;124m'\u001b[39m]\n\u001b[0;32m     12\u001b[0m app\u001b[38;5;241m.\u001b[39mlayout \u001b[38;5;241m=\u001b[39m html\u001b[38;5;241m.\u001b[39mDiv([\n\u001b[0;32m     13\u001b[0m     html\u001b[38;5;241m.\u001b[39mH1(\u001b[38;5;124m\"\u001b[39m\u001b[38;5;124mAutomotive Diagnostic Dashboard\u001b[39m\u001b[38;5;124m\"\u001b[39m),\n\u001b[0;32m     14\u001b[0m     \u001b[38;5;124m\"\u001b[39m\u001b[38;5;124mSelect a data to visualise:!\u001b[39m\u001b[38;5;124m\"\u001b[39m,\n\u001b[0;32m     15\u001b[0m     dcc\u001b[38;5;241m.\u001b[39mDropdown(\n\u001b[0;32m     16\u001b[0m         \u001b[38;5;28mid\u001b[39m\u001b[38;5;241m=\u001b[39m\u001b[38;5;124m\"\u001b[39m\u001b[38;5;124mfile_name\u001b[39m\u001b[38;5;124m\"\u001b[39m,\n\u001b[0;32m     17\u001b[0m         options\u001b[38;5;241m=\u001b[39mdata_files,\n\u001b[0;32m     18\u001b[0m         value\u001b[38;5;241m=\u001b[39m\u001b[38;5;124m\"\u001b[39m\u001b[38;5;124m\"\u001b[39m\n\u001b[0;32m     19\u001b[0m     ),\n\u001b[0;32m     20\u001b[0m     html\u001b[38;5;241m.\u001b[39mDiv([\n\u001b[0;32m     21\u001b[0m     \u001b[38;5;66;03m# html.P(children=[\"...text\", num]) \u001b[39;00m\n\u001b[0;32m     22\u001b[0m     html\u001b[38;5;241m.\u001b[39mSpan(\u001b[38;5;28mid\u001b[39m\u001b[38;5;241m=\u001b[39m\u001b[38;5;124m'\u001b[39m\u001b[38;5;124morigin_loc\u001b[39m\u001b[38;5;124m'\u001b[39m, children\u001b[38;5;241m=\u001b[39m[\u001b[38;5;124m'\u001b[39m\u001b[38;5;124mOrigin: \u001b[39m\u001b[38;5;124m'\u001b[39m, origin], style\u001b[38;5;241m=\u001b[39m{\u001b[38;5;124m'\u001b[39m\u001b[38;5;124mflex\u001b[39m\u001b[38;5;124m'\u001b[39m: \u001b[38;5;124m'\u001b[39m\u001b[38;5;124m1\u001b[39m\u001b[38;5;124m'\u001b[39m}),\n\u001b[0;32m     23\u001b[0m     html\u001b[38;5;241m.\u001b[39mSpan(\u001b[38;5;28mid\u001b[39m\u001b[38;5;241m=\u001b[39m\u001b[38;5;124m'\u001b[39m\u001b[38;5;124mdestination_loc\u001b[39m\u001b[38;5;124m'\u001b[39m, children\u001b[38;5;241m=\u001b[39m[\u001b[38;5;124m'\u001b[39m\u001b[38;5;124mDestination: \u001b[39m\u001b[38;5;124m'\u001b[39m, destination], style\u001b[38;5;241m=\u001b[39m{\u001b[38;5;124m'\u001b[39m\u001b[38;5;124mflex\u001b[39m\u001b[38;5;124m'\u001b[39m: \u001b[38;5;124m'\u001b[39m\u001b[38;5;124m1\u001b[39m\u001b[38;5;124m'\u001b[39m, \u001b[38;5;124m'\u001b[39m\u001b[38;5;124mtext-align\u001b[39m\u001b[38;5;124m'\u001b[39m: \u001b[38;5;124m'\u001b[39m\u001b[38;5;124mcenter\u001b[39m\u001b[38;5;124m'\u001b[39m}),\n\u001b[0;32m     24\u001b[0m     html\u001b[38;5;241m.\u001b[39mSpan(\u001b[38;5;28mid\u001b[39m\u001b[38;5;241m=\u001b[39m\u001b[38;5;124m'\u001b[39m\u001b[38;5;124mcond\u001b[39m\u001b[38;5;124m'\u001b[39m, children\u001b[38;5;241m=\u001b[39m[\u001b[38;5;124m'\u001b[39m\u001b[38;5;124mCondition: \u001b[39m\u001b[38;5;124m'\u001b[39m, cond], style\u001b[38;5;241m=\u001b[39m{\u001b[38;5;124m'\u001b[39m\u001b[38;5;124malign-self\u001b[39m\u001b[38;5;124m'\u001b[39m: \u001b[38;5;124m'\u001b[39m\u001b[38;5;124m1\u001b[39m\u001b[38;5;124m'\u001b[39m, \u001b[38;5;124m'\u001b[39m\u001b[38;5;124mtext-align\u001b[39m\u001b[38;5;124m'\u001b[39m: \u001b[38;5;124m'\u001b[39m\u001b[38;5;124mright\u001b[39m\u001b[38;5;124m'\u001b[39m})\n\u001b[0;32m     25\u001b[0m     ],style\u001b[38;5;241m=\u001b[39m{\u001b[38;5;124m'\u001b[39m\u001b[38;5;124mdisplay\u001b[39m\u001b[38;5;124m'\u001b[39m: \u001b[38;5;124m'\u001b[39m\u001b[38;5;124mflex\u001b[39m\u001b[38;5;124m'\u001b[39m, \u001b[38;5;124m'\u001b[39m\u001b[38;5;124mjustify-content\u001b[39m\u001b[38;5;124m'\u001b[39m: \u001b[38;5;124m'\u001b[39m\u001b[38;5;124mspace-between\u001b[39m\u001b[38;5;124m'\u001b[39m}),\n\u001b[0;32m     26\u001b[0m     html\u001b[38;5;241m.\u001b[39mH3(\u001b[38;5;124m\"\u001b[39m\u001b[38;5;124mAssessing Engine Load\u001b[39m\u001b[38;5;124m\"\u001b[39m),\n\u001b[0;32m     27\u001b[0m     \u001b[38;5;66;03m# dcc.Graph(\u001b[39;00m\n\u001b[0;32m     28\u001b[0m     \u001b[38;5;66;03m#     id=\"visual\",\u001b[39;00m\n\u001b[0;32m     29\u001b[0m     \u001b[38;5;66;03m#     figure=px.scatter(df, x=df['AirFlow_Rate'], y=df['Engine_RPM'])\u001b[39;00m\n\u001b[0;32m     30\u001b[0m     \u001b[38;5;66;03m# ),\u001b[39;00m\n\u001b[1;32m---> 31\u001b[0m     html\u001b[38;5;241m.\u001b[39mDiv([generate_subplot(column) \u001b[38;5;28;01mfor\u001b[39;00m column \u001b[38;5;129;01min\u001b[39;00m df\u001b[38;5;241m.\u001b[39mcolumns])\n\u001b[0;32m     32\u001b[0m ])\n\u001b[0;32m     34\u001b[0m \u001b[38;5;66;03m# def produce_plot(filename, x-axis, y-axis):\u001b[39;00m\n\u001b[0;32m     35\u001b[0m \u001b[38;5;66;03m#         plt.figure(figsize=(10,6))\u001b[39;00m\n\u001b[0;32m     36\u001b[0m         \n\u001b[0;32m     37\u001b[0m \u001b[38;5;66;03m# Define a function to generate subplots\u001b[39;00m\n\u001b[0;32m     38\u001b[0m \u001b[38;5;28;01mdef\u001b[39;00m \u001b[38;5;21mgenerate_subplot\u001b[39m(column_name):\n",
      "Input \u001b[1;32mIn [90]\u001b[0m, in \u001b[0;36m<listcomp>\u001b[1;34m(.0)\u001b[0m\n\u001b[0;32m      8\u001b[0m df \u001b[38;5;241m=\u001b[39m df\u001b[38;5;241m.\u001b[39mset_index(\u001b[38;5;124m\"\u001b[39m\u001b[38;5;124mTime\u001b[39m\u001b[38;5;124m\"\u001b[39m)\n\u001b[0;32m      9\u001b[0m df\u001b[38;5;241m.\u001b[39mcolumns \u001b[38;5;241m=\u001b[39m [\u001b[38;5;124m'\u001b[39m\u001b[38;5;124mEngine_Coolant_Temperature\u001b[39m\u001b[38;5;124m'\u001b[39m, \u001b[38;5;124m'\u001b[39m\u001b[38;5;124mIntake_Manifold_Abs_Pressure\u001b[39m\u001b[38;5;124m'\u001b[39m, \u001b[38;5;124m'\u001b[39m\u001b[38;5;124mEngine_RPM\u001b[39m\u001b[38;5;124m'\u001b[39m, \u001b[38;5;124m'\u001b[39m\u001b[38;5;124mVehicle_Speed\u001b[39m\u001b[38;5;124m'\u001b[39m, \u001b[38;5;124m'\u001b[39m\u001b[38;5;124mIntake_Air_Temperature\u001b[39m\u001b[38;5;124m'\u001b[39m, \u001b[38;5;124m'\u001b[39m\u001b[38;5;124mAirFlow_Rate\u001b[39m\u001b[38;5;124m'\u001b[39m, \u001b[38;5;124m'\u001b[39m\u001b[38;5;124mThrottle_Position\u001b[39m\u001b[38;5;124m'\u001b[39m, \u001b[38;5;124m'\u001b[39m\u001b[38;5;124mAir_Temperature\u001b[39m\u001b[38;5;124m'\u001b[39m, \u001b[38;5;124m'\u001b[39m\u001b[38;5;124mAcc_Pedal_Pos_D\u001b[39m\u001b[38;5;124m'\u001b[39m, \u001b[38;5;124m'\u001b[39m\u001b[38;5;124mAcc_Pedal_Pos_E\u001b[39m\u001b[38;5;124m'\u001b[39m]\n\u001b[0;32m     12\u001b[0m app\u001b[38;5;241m.\u001b[39mlayout \u001b[38;5;241m=\u001b[39m html\u001b[38;5;241m.\u001b[39mDiv([\n\u001b[0;32m     13\u001b[0m     html\u001b[38;5;241m.\u001b[39mH1(\u001b[38;5;124m\"\u001b[39m\u001b[38;5;124mAutomotive Diagnostic Dashboard\u001b[39m\u001b[38;5;124m\"\u001b[39m),\n\u001b[0;32m     14\u001b[0m     \u001b[38;5;124m\"\u001b[39m\u001b[38;5;124mSelect a data to visualise:!\u001b[39m\u001b[38;5;124m\"\u001b[39m,\n\u001b[0;32m     15\u001b[0m     dcc\u001b[38;5;241m.\u001b[39mDropdown(\n\u001b[0;32m     16\u001b[0m         \u001b[38;5;28mid\u001b[39m\u001b[38;5;241m=\u001b[39m\u001b[38;5;124m\"\u001b[39m\u001b[38;5;124mfile_name\u001b[39m\u001b[38;5;124m\"\u001b[39m,\n\u001b[0;32m     17\u001b[0m         options\u001b[38;5;241m=\u001b[39mdata_files,\n\u001b[0;32m     18\u001b[0m         value\u001b[38;5;241m=\u001b[39m\u001b[38;5;124m\"\u001b[39m\u001b[38;5;124m\"\u001b[39m\n\u001b[0;32m     19\u001b[0m     ),\n\u001b[0;32m     20\u001b[0m     html\u001b[38;5;241m.\u001b[39mDiv([\n\u001b[0;32m     21\u001b[0m     \u001b[38;5;66;03m# html.P(children=[\"...text\", num]) \u001b[39;00m\n\u001b[0;32m     22\u001b[0m     html\u001b[38;5;241m.\u001b[39mSpan(\u001b[38;5;28mid\u001b[39m\u001b[38;5;241m=\u001b[39m\u001b[38;5;124m'\u001b[39m\u001b[38;5;124morigin_loc\u001b[39m\u001b[38;5;124m'\u001b[39m, children\u001b[38;5;241m=\u001b[39m[\u001b[38;5;124m'\u001b[39m\u001b[38;5;124mOrigin: \u001b[39m\u001b[38;5;124m'\u001b[39m, origin], style\u001b[38;5;241m=\u001b[39m{\u001b[38;5;124m'\u001b[39m\u001b[38;5;124mflex\u001b[39m\u001b[38;5;124m'\u001b[39m: \u001b[38;5;124m'\u001b[39m\u001b[38;5;124m1\u001b[39m\u001b[38;5;124m'\u001b[39m}),\n\u001b[0;32m     23\u001b[0m     html\u001b[38;5;241m.\u001b[39mSpan(\u001b[38;5;28mid\u001b[39m\u001b[38;5;241m=\u001b[39m\u001b[38;5;124m'\u001b[39m\u001b[38;5;124mdestination_loc\u001b[39m\u001b[38;5;124m'\u001b[39m, children\u001b[38;5;241m=\u001b[39m[\u001b[38;5;124m'\u001b[39m\u001b[38;5;124mDestination: \u001b[39m\u001b[38;5;124m'\u001b[39m, destination], style\u001b[38;5;241m=\u001b[39m{\u001b[38;5;124m'\u001b[39m\u001b[38;5;124mflex\u001b[39m\u001b[38;5;124m'\u001b[39m: \u001b[38;5;124m'\u001b[39m\u001b[38;5;124m1\u001b[39m\u001b[38;5;124m'\u001b[39m, \u001b[38;5;124m'\u001b[39m\u001b[38;5;124mtext-align\u001b[39m\u001b[38;5;124m'\u001b[39m: \u001b[38;5;124m'\u001b[39m\u001b[38;5;124mcenter\u001b[39m\u001b[38;5;124m'\u001b[39m}),\n\u001b[0;32m     24\u001b[0m     html\u001b[38;5;241m.\u001b[39mSpan(\u001b[38;5;28mid\u001b[39m\u001b[38;5;241m=\u001b[39m\u001b[38;5;124m'\u001b[39m\u001b[38;5;124mcond\u001b[39m\u001b[38;5;124m'\u001b[39m, children\u001b[38;5;241m=\u001b[39m[\u001b[38;5;124m'\u001b[39m\u001b[38;5;124mCondition: \u001b[39m\u001b[38;5;124m'\u001b[39m, cond], style\u001b[38;5;241m=\u001b[39m{\u001b[38;5;124m'\u001b[39m\u001b[38;5;124malign-self\u001b[39m\u001b[38;5;124m'\u001b[39m: \u001b[38;5;124m'\u001b[39m\u001b[38;5;124m1\u001b[39m\u001b[38;5;124m'\u001b[39m, \u001b[38;5;124m'\u001b[39m\u001b[38;5;124mtext-align\u001b[39m\u001b[38;5;124m'\u001b[39m: \u001b[38;5;124m'\u001b[39m\u001b[38;5;124mright\u001b[39m\u001b[38;5;124m'\u001b[39m})\n\u001b[0;32m     25\u001b[0m     ],style\u001b[38;5;241m=\u001b[39m{\u001b[38;5;124m'\u001b[39m\u001b[38;5;124mdisplay\u001b[39m\u001b[38;5;124m'\u001b[39m: \u001b[38;5;124m'\u001b[39m\u001b[38;5;124mflex\u001b[39m\u001b[38;5;124m'\u001b[39m, \u001b[38;5;124m'\u001b[39m\u001b[38;5;124mjustify-content\u001b[39m\u001b[38;5;124m'\u001b[39m: \u001b[38;5;124m'\u001b[39m\u001b[38;5;124mspace-between\u001b[39m\u001b[38;5;124m'\u001b[39m}),\n\u001b[0;32m     26\u001b[0m     html\u001b[38;5;241m.\u001b[39mH3(\u001b[38;5;124m\"\u001b[39m\u001b[38;5;124mAssessing Engine Load\u001b[39m\u001b[38;5;124m\"\u001b[39m),\n\u001b[0;32m     27\u001b[0m     \u001b[38;5;66;03m# dcc.Graph(\u001b[39;00m\n\u001b[0;32m     28\u001b[0m     \u001b[38;5;66;03m#     id=\"visual\",\u001b[39;00m\n\u001b[0;32m     29\u001b[0m     \u001b[38;5;66;03m#     figure=px.scatter(df, x=df['AirFlow_Rate'], y=df['Engine_RPM'])\u001b[39;00m\n\u001b[0;32m     30\u001b[0m     \u001b[38;5;66;03m# ),\u001b[39;00m\n\u001b[1;32m---> 31\u001b[0m     html\u001b[38;5;241m.\u001b[39mDiv([\u001b[43mgenerate_subplot\u001b[49m(column) \u001b[38;5;28;01mfor\u001b[39;00m column \u001b[38;5;129;01min\u001b[39;00m df\u001b[38;5;241m.\u001b[39mcolumns])\n\u001b[0;32m     32\u001b[0m ])\n\u001b[0;32m     34\u001b[0m \u001b[38;5;66;03m# def produce_plot(filename, x-axis, y-axis):\u001b[39;00m\n\u001b[0;32m     35\u001b[0m \u001b[38;5;66;03m#         plt.figure(figsize=(10,6))\u001b[39;00m\n\u001b[0;32m     36\u001b[0m         \n\u001b[0;32m     37\u001b[0m \u001b[38;5;66;03m# Define a function to generate subplots\u001b[39;00m\n\u001b[0;32m     38\u001b[0m \u001b[38;5;28;01mdef\u001b[39;00m \u001b[38;5;21mgenerate_subplot\u001b[39m(column_name):\n",
      "\u001b[1;31mNameError\u001b[0m: name 'generate_subplot' is not defined"
     ]
    }
   ],
   "source": [
    "app = Dash(__name__)\n",
    "origin = \"Nigeria\"\n",
    "destination = \"UK\"\n",
    "cond = \"Normal\"\n",
    "df = pd.read_csv(\"OBD-II-Dataset/2017-07-05_Seat_Leon_RT_S_Stau.csv\")\n",
    "df = df.iloc[10:]\n",
    "df[\"Time\"] = pd.to_datetime(df[\"Time\"])\n",
    "df = df.set_index(\"Time\")\n",
    "df.columns = ['Engine_Coolant_Temperature', 'Intake_Manifold_Abs_Pressure', 'Engine_RPM', 'Vehicle_Speed', 'Intake_Air_Temperature', 'AirFlow_Rate', 'Throttle_Position', 'Air_Temperature', 'Acc_Pedal_Pos_D', 'Acc_Pedal_Pos_E']\n",
    "\n",
    "\n",
    "app.layout = html.Div([\n",
    "    html.H1(\"Automotive Diagnostic Dashboard\"),\n",
    "    \"Select a data to visualise:!\",\n",
    "    dcc.Dropdown(\n",
    "        id=\"file_name\",\n",
    "        options=data_files,\n",
    "        value=\"\"\n",
    "    ),\n",
    "    html.Div([\n",
    "    # html.P(children=[\"...text\", num]) \n",
    "    html.Span(id='origin_loc', children=['Origin: ', origin], style={'flex': '1'}),\n",
    "    html.Span(id='destination_loc', children=['Destination: ', destination], style={'flex': '1', 'text-align': 'center'}),\n",
    "    html.Span(id='cond', children=['Condition: ', cond], style={'align-self': '1', 'text-align': 'right'})\n",
    "    ],style={'display': 'flex', 'justify-content': 'space-between'}),\n",
    "    html.H3(\"Assessing Engine Load\"),\n",
    "    # dcc.Graph(\n",
    "    #     id=\"visual\",\n",
    "    #     figure=px.scatter(df, x=df['AirFlow_Rate'], y=df['Engine_RPM'])\n",
    "    # ),\n",
    "    html.Div([generate_subplot(column) for column in df.columns])\n",
    "])\n",
    "\n",
    "# def produce_plot(filename, x-axis, y-axis):\n",
    "#         plt.figure(figsize=(10,6))\n",
    "        \n",
    "# Define a function to generate subplots\n",
    "def generate_subplot(column_name):\n",
    "    return dcc.Graph(\n",
    "        id=column_name,\n",
    "        figure={\n",
    "            'data': [\n",
    "                go.Scatter(\n",
    "                    x=df['x'],\n",
    "                    y=df[column_name],\n",
    "                    mode='lines+markers',\n",
    "                    name=column_name\n",
    "                )\n",
    "            ],\n",
    "            'layout': go.Layout(\n",
    "                title=column_name,\n",
    "                xaxis={'title': 'X'},\n",
    "                yaxis={'title': 'Y'},\n",
    "                height=200,\n",
    "                width=400\n",
    "            )\n",
    "        }\n",
    "    )\n",
    "\n",
    "\n",
    "def get_data(file_name):\n",
    "    data = pd.read_csv(\"OBD-II-Dataset/\" + file_name)\n",
    "    data = data.iloc[10:]\n",
    "    data[\"Time\"] = pd.to_datetime(data[\"Time\"])\n",
    "    data = data.set_index(\"Time\")\n",
    "    data.columns = ['Engine_Coolant_Temperature', 'Intake_Manifold_Abs_Pressure', 'Engine_RPM', 'Vehicle_Speed', 'Intake_Air_Temperature', 'AirFlow_Rate', 'Throttle_Position', 'Air_Temperature', 'Acc_Pedal_Pos_D', 'Acc_Pedal_Pos_E']\n",
    "    return data\n",
    "\n",
    "@app.callback([Output(\"origin_loc\", \"children\"), Output(\"destination_loc\", \"children\"), Output(\"cond\", \"children\")], Input(\"file_name\", \"value\"))\n",
    "def update_data_desc(fname):\n",
    "    df = get_data(fname)\n",
    "    origin_code = {\"KA\":\"Karlsruhe\", \"RT\": \"Reutlingen\", \"S\":\"Stuttgart\", \"BB\":\"Boblingen\"}\n",
    "    dest_code = {\"CW\": \"Calw\", \"KA\":\"Karlsruhe\", \"RT\": \"Reutlingen\", \"S\":\"Stuttgart\", \"BB\":\"Boblingen\"}\n",
    "    cond_code = {\"Stau\": \"Busy\", \"Normal\": \"Normal\", \"Frei\": \"Free\"}\n",
    "    code_list = fname.split(\"_\")\n",
    "    if len(fname) > 1:        \n",
    "        origin = origin_code[code_list[3]]\n",
    "        destination = origin_code[code_list[4]]\n",
    "        if \"Stau\" in fname:\n",
    "            cond = \"Busy\"\n",
    "        elif \"Normal\" in fname:\n",
    "            cond = \"Normal\"\n",
    "        elif \"Frei\" in fname:\n",
    "            cond = \"Free\"\n",
    "    # return f\"File selected: {fname}\"\n",
    "    return ['Origin: ' + origin, ' Destination: ' + destination, ' Condition: ' + cond]\n",
    "\n",
    "if __name__ == \"__main__\":\n",
    "    app.run_server(mode=\"inline\", port=8051)"
   ]
  },
  {
   "cell_type": "code",
   "execution_count": null,
   "id": "ecc08143-dfb3-47ee-8e4b-32044edff69b",
   "metadata": {},
   "outputs": [],
   "source": [
    "\n"
   ]
  },
  {
   "cell_type": "code",
   "execution_count": null,
   "id": "d67f00ac-0100-40da-a7ec-6188fd61f354",
   "metadata": {},
   "outputs": [],
   "source": [
    "\n"
   ]
  },
  {
   "cell_type": "code",
   "execution_count": null,
   "id": "2755762c-6428-4d41-85fb-02c0702e538a",
   "metadata": {},
   "outputs": [],
   "source": []
  }
 ],
 "metadata": {
  "kernelspec": {
   "display_name": "Python 3 (ipykernel)",
   "language": "python",
   "name": "python3"
  },
  "language_info": {
   "codemirror_mode": {
    "name": "ipython",
    "version": 3
   },
   "file_extension": ".py",
   "mimetype": "text/x-python",
   "name": "python",
   "nbconvert_exporter": "python",
   "pygments_lexer": "ipython3",
   "version": "3.10.2"
  }
 },
 "nbformat": 4,
 "nbformat_minor": 5
}
