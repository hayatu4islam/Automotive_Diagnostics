{
 "cells": [
  {
   "cell_type": "code",
   "execution_count": 7,
   "id": "e1b68dba-cc36-46a9-af79-09a45ab915e7",
   "metadata": {},
   "outputs": [],
   "source": [
    "from dash import Dash, html, dcc\n",
    "import numpy as np\n",
    "import pandas as pd\n",
    "import matplotlib.pyplot as plt\n",
    "import os\n",
    "import glob\n"
   ]
  },
  {
   "cell_type": "code",
   "execution_count": 10,
   "id": "6638f56b-521e-467c-8499-75f43ecfd46f",
   "metadata": {},
   "outputs": [
    {
     "ename": "NameError",
     "evalue": "name 'filenames' is not defined",
     "output_type": "error",
     "traceback": [
      "\u001b[1;31m---------------------------------------------------------------------------\u001b[0m",
      "\u001b[1;31mNameError\u001b[0m                                 Traceback (most recent call last)",
      "Input \u001b[1;32mIn [10]\u001b[0m, in \u001b[0;36m<module>\u001b[1;34m\u001b[0m\n\u001b[0;32m     15\u001b[0m folder_path \u001b[38;5;241m=\u001b[39m \u001b[38;5;124m\"\u001b[39m\u001b[38;5;124mC:/Users/user/Documents/GitHub/Automotive_Diagnostics/OBD-II-Dataset\u001b[39m\u001b[38;5;124m\"\u001b[39m\n\u001b[0;32m     16\u001b[0m file_extension \u001b[38;5;241m=\u001b[39m \u001b[38;5;124m\"\u001b[39m\u001b[38;5;124mcsv\u001b[39m\u001b[38;5;124m\"\u001b[39m\n\u001b[1;32m---> 18\u001b[0m data_files \u001b[38;5;241m=\u001b[39m \u001b[43mread_files\u001b[49m\u001b[43m(\u001b[49m\u001b[43mfolder_path\u001b[49m\u001b[43m,\u001b[49m\u001b[43m \u001b[49m\u001b[43mfile_extension\u001b[49m\u001b[43m)\u001b[49m\n\u001b[0;32m     19\u001b[0m \u001b[38;5;28mprint\u001b[39m(data_files)\n",
      "Input \u001b[1;32mIn [10]\u001b[0m, in \u001b[0;36mread_files\u001b[1;34m(folder_path, file_extension)\u001b[0m\n\u001b[0;32m      7\u001b[0m files \u001b[38;5;241m=\u001b[39m glob\u001b[38;5;241m.\u001b[39mglob(pattern)\n\u001b[0;32m      8\u001b[0m \u001b[38;5;28;01mfor\u001b[39;00m file \u001b[38;5;129;01min\u001b[39;00m files:\n\u001b[1;32m----> 9\u001b[0m     \u001b[43mfilenames\u001b[49m\u001b[38;5;241m.\u001b[39mappend(file\u001b[38;5;241m.\u001b[39msplit(\u001b[38;5;124m\"\u001b[39m\u001b[38;5;130;01m\\\\\u001b[39;00m\u001b[38;5;124m\"\u001b[39m)[\u001b[38;5;241m1\u001b[39m])\n\u001b[0;32m     11\u001b[0m \u001b[38;5;66;03m# Return the count of matching files\u001b[39;00m\n\u001b[0;32m     12\u001b[0m \u001b[38;5;28;01mreturn\u001b[39;00m filenames\n",
      "\u001b[1;31mNameError\u001b[0m: name 'filenames' is not defined"
     ]
    }
   ],
   "source": [
    "def read_files(folder_path, file_extension):\n",
    "    # Create a file path pattern using glob\n",
    "    pattern = os.path.join(folder_path, f\"*.{file_extension}\")\n",
    "    filename = []\n",
    "\n",
    "    # Use glob to get a list of files matching the pattern\n",
    "    files = glob.glob(pattern)\n",
    "    for file in files:\n",
    "        filenames.append(file.split(\"\\\\\")[1])\n",
    "\n",
    "    # Return the count of matching files\n",
    "    return filenames\n",
    "\n",
    "# Example usage\n",
    "folder_path = \"C:/Users/user/Documents/GitHub/Automotive_Diagnostics/OBD-II-Dataset\"\n",
    "file_extension = \"csv\"\n",
    "\n",
    "data_files = read_files(folder_path, file_extension)\n",
    "print(data_files)"
   ]
  },
  {
   "cell_type": "code",
   "execution_count": 5,
   "id": "f819a620-b4b1-4b80-b922-c49f235a1aee",
   "metadata": {},
   "outputs": [
    {
     "data": {
      "text/html": [
       "\n",
       "        <iframe\n",
       "            width=\"100%\"\n",
       "            height=\"650\"\n",
       "            src=\"http://127.0.0.1:8051/\"\n",
       "            frameborder=\"0\"\n",
       "            allowfullscreen\n",
       "            \n",
       "        ></iframe>\n",
       "        "
      ],
      "text/plain": [
       "<IPython.lib.display.IFrame at 0x2737a7ef520>"
      ]
     },
     "metadata": {},
     "output_type": "display_data"
    }
   ],
   "source": [
    "app = Dash(__name__)\n",
    "\n",
    "app.layout = html.Div([\n",
    "    # dcc.h1(\"Automotive Dashboard\"),\n",
    "    \"Select a data to visualise:!\",\n",
    "    dcc.Dropdown(\n",
    "        options=[\"Red\", \"Green\", \"Blue\"],\n",
    "        id=\"color-input\",\n",
    "        value=\"Red\"\n",
    "    ),\n",
    "])\n",
    "\n",
    "if __name__ == \"__main__\":\n",
    "    app.run_server(mode=\"inline\", port=8051)"
   ]
  },
  {
   "cell_type": "code",
   "execution_count": null,
   "id": "ecc08143-dfb3-47ee-8e4b-32044edff69b",
   "metadata": {},
   "outputs": [],
   "source": []
  }
 ],
 "metadata": {
  "kernelspec": {
   "display_name": "Python 3 (ipykernel)",
   "language": "python",
   "name": "python3"
  },
  "language_info": {
   "codemirror_mode": {
    "name": "ipython",
    "version": 3
   },
   "file_extension": ".py",
   "mimetype": "text/x-python",
   "name": "python",
   "nbconvert_exporter": "python",
   "pygments_lexer": "ipython3",
   "version": "3.10.2"
  }
 },
 "nbformat": 4,
 "nbformat_minor": 5
}
