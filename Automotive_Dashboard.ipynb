{
 "cells": [
  {
   "cell_type": "code",
   "execution_count": 7,
   "id": "e1b68dba-cc36-46a9-af79-09a45ab915e7",
   "metadata": {},
   "outputs": [],
   "source": [
    "from dash import Dash, html, dcc\n",
    "import numpy as np\n",
    "import pandas as pd\n",
    "import matplotlib.pyplot as plt\n",
    "import os\n",
    "import glob\n"
   ]
  },
  {
   "cell_type": "code",
   "execution_count": 12,
   "id": "6638f56b-521e-467c-8499-75f43ecfd46f",
   "metadata": {},
   "outputs": [],
   "source": [
    "def read_files(folder_path, file_extension):\n",
    "    # Create a file path pattern using glob\n",
    "    pattern = os.path.join(folder_path, f\"*.{file_extension}\")\n",
    "    filenames = []\n",
    "\n",
    "    # Use glob to get a list of files matching the pattern\n",
    "    files = glob.glob(pattern)\n",
    "    for file in files:\n",
    "        filenames.append(file.split(\"\\\\\")[1])\n",
    "\n",
    "    # Return the count of matching files\n",
    "    return filenames\n",
    "\n",
    "# Example usage\n",
    "folder_path = \"C:/Users/user/Documents/GitHub/Automotive_Diagnostics/OBD-II-Dataset\"\n",
    "file_extension = \"csv\"\n",
    "\n",
    "data_files = read_files(folder_path, file_extension)\n",
    "# print(data_files)"
   ]
  },
  {
   "cell_type": "code",
   "execution_count": 44,
   "id": "f819a620-b4b1-4b80-b922-c49f235a1aee",
   "metadata": {},
   "outputs": [
    {
     "ename": "NameError",
     "evalue": "name 'Output' is not defined",
     "output_type": "error",
     "traceback": [
      "\u001b[1;31m---------------------------------------------------------------------------\u001b[0m",
      "\u001b[1;31mNameError\u001b[0m                                 Traceback (most recent call last)",
      "Input \u001b[1;32mIn [44]\u001b[0m, in \u001b[0;36m<module>\u001b[1;34m\u001b[0m\n\u001b[0;32m      5\u001b[0m \u001b[38;5;66;03m# app.layout = html.Div([\u001b[39;00m\n\u001b[0;32m      6\u001b[0m \u001b[38;5;66;03m#      html.H1(\"Automotive Dashboard\"),\u001b[39;00m\n\u001b[0;32m      7\u001b[0m \u001b[38;5;66;03m#     \"Select a data to visualise:!\",\u001b[39;00m\n\u001b[1;32m   (...)\u001b[0m\n\u001b[0;32m     11\u001b[0m \u001b[38;5;66;03m#         value=\"Red\"\u001b[39;00m\n\u001b[0;32m     12\u001b[0m \u001b[38;5;66;03m#     )])\u001b[39;00m\n\u001b[0;32m     13\u001b[0m app\u001b[38;5;241m.\u001b[39mlayout \u001b[38;5;241m=\u001b[39m html\u001b[38;5;241m.\u001b[39mDiv([\n\u001b[0;32m     14\u001b[0m     html\u001b[38;5;241m.\u001b[39mH1(\u001b[38;5;124m\"\u001b[39m\u001b[38;5;124mAutomotive Dashboard\u001b[39m\u001b[38;5;124m\"\u001b[39m),\n\u001b[0;32m     15\u001b[0m     \u001b[38;5;124m\"\u001b[39m\u001b[38;5;124mSelect a data to visualise:!\u001b[39m\u001b[38;5;124m\"\u001b[39m,\n\u001b[1;32m   (...)\u001b[0m\n\u001b[0;32m     27\u001b[0m ],style\u001b[38;5;241m=\u001b[39m{\u001b[38;5;124m'\u001b[39m\u001b[38;5;124mdisplay\u001b[39m\u001b[38;5;124m'\u001b[39m: \u001b[38;5;124m'\u001b[39m\u001b[38;5;124mflex\u001b[39m\u001b[38;5;124m'\u001b[39m, \u001b[38;5;124m'\u001b[39m\u001b[38;5;124mjustify-content\u001b[39m\u001b[38;5;124m'\u001b[39m: \u001b[38;5;124m'\u001b[39m\u001b[38;5;124mspace-between\u001b[39m\u001b[38;5;124m'\u001b[39m})\n\u001b[0;32m     28\u001b[0m ])\n\u001b[1;32m---> 30\u001b[0m \u001b[38;5;129m@app\u001b[39m\u001b[38;5;241m.\u001b[39mcallback(\u001b[43mOutput\u001b[49m(\u001b[38;5;124m\"\u001b[39m\u001b[38;5;124morigin_loc\u001b[39m\u001b[38;5;124m\"\u001b[39m, \u001b[38;5;124m\"\u001b[39m\u001b[38;5;124mchildren\u001b[39m\u001b[38;5;124m\"\u001b[39m), Input(\u001b[38;5;124m\"\u001b[39m\u001b[38;5;124mfile_name\u001b[39m\u001b[38;5;124m\"\u001b[39m, \u001b[38;5;124m\"\u001b[39m\u001b[38;5;124mvalue\u001b[39m\u001b[38;5;124m\"\u001b[39m))\n\u001b[0;32m     31\u001b[0m \u001b[38;5;28;01mdef\u001b[39;00m \u001b[38;5;21mupdate_data_desc\u001b[39m(file_name):\n\u001b[0;32m     32\u001b[0m     \u001b[38;5;28;01mreturn\u001b[39;00m \u001b[38;5;124mf\u001b[39m\u001b[38;5;124m\"\u001b[39m\u001b[38;5;124mFile selected: \u001b[39m\u001b[38;5;132;01m{\u001b[39;00mfile_name\u001b[38;5;132;01m}\u001b[39;00m\u001b[38;5;124m\"\u001b[39m\n\u001b[0;32m     34\u001b[0m \u001b[38;5;28;01mif\u001b[39;00m \u001b[38;5;18m__name__\u001b[39m \u001b[38;5;241m==\u001b[39m \u001b[38;5;124m\"\u001b[39m\u001b[38;5;124m__main__\u001b[39m\u001b[38;5;124m\"\u001b[39m:\n",
      "\u001b[1;31mNameError\u001b[0m: name 'Output' is not defined"
     ]
    }
   ],
   "source": [
    "app = Dash(__name__)\n",
    "origin = \"Nigeria\"\n",
    "destination = \"UK\"\n",
    "cond = \"Normal\"\n",
    "# app.layout = html.Div([\n",
    "#      html.H1(\"Automotive Dashboard\"),\n",
    "#     \"Select a data to visualise:!\",\n",
    "#     dcc.Dropdown(\n",
    "#         id=\"file_name\",\n",
    "#         options=data_files,\n",
    "#         value=\"Red\"\n",
    "#     )])\n",
    "app.layout = html.Div([\n",
    "    html.H1(\"Automotive Dashboard\"),\n",
    "    \"Select a data to visualise:!\",\n",
    "    dcc.Dropdown(\n",
    "        id=\"file_name\",\n",
    "        options=data_files,\n",
    "        value=\"Red\"\n",
    "    ),\n",
    "    html.Div([\n",
    "    # html.P(children=[\"...text\", num]) \n",
    "    html.Span(id='origin_loc', children=['Origin: ', origin], style={'flex': '1'}),\n",
    "    html.Span(id='destination_loc', children=['Destination: ', destination], style={'flex': '1', 'text-align': 'center'}),\n",
    "    html.Span(id='cond', children=['Condition: ', cond], style={'align-self': '1', 'text-align': 'right'})\n",
    "# ])\n",
    "],style={'display': 'flex', 'justify-content': 'space-between'})\n",
    "])\n",
    "\n",
    "@app.callback(Output(\"origin_loc\", \"children\"), Input(\"file_name\", \"value\"))\n",
    "def update_data_desc(file_name):\n",
    "    return f\"File selected: {file_name}\"\n",
    "\n",
    "if __name__ == \"__main__\":\n",
    "    app.run_server(mode=\"inline\", port=8051)"
   ]
  },
  {
   "cell_type": "code",
   "execution_count": null,
   "id": "ecc08143-dfb3-47ee-8e4b-32044edff69b",
   "metadata": {},
   "outputs": [],
   "source": [
    "\n"
   ]
  },
  {
   "cell_type": "code",
   "execution_count": null,
   "id": "d67f00ac-0100-40da-a7ec-6188fd61f354",
   "metadata": {},
   "outputs": [],
   "source": []
  }
 ],
 "metadata": {
  "kernelspec": {
   "display_name": "Python 3 (ipykernel)",
   "language": "python",
   "name": "python3"
  },
  "language_info": {
   "codemirror_mode": {
    "name": "ipython",
    "version": 3
   },
   "file_extension": ".py",
   "mimetype": "text/x-python",
   "name": "python",
   "nbconvert_exporter": "python",
   "pygments_lexer": "ipython3",
   "version": "3.10.2"
  }
 },
 "nbformat": 4,
 "nbformat_minor": 5
}
