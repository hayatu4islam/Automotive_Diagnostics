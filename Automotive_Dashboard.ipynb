{
 "cells": [
  {
   "cell_type": "code",
   "execution_count": 75,
   "id": "e1b68dba-cc36-46a9-af79-09a45ab915e7",
   "metadata": {},
   "outputs": [],
   "source": [
    "from dash import Dash, html, dcc\n",
    "from dash.dependencies import Output, Input\n",
    "import numpy as np\n",
    "import pandas as pd\n",
    "import matplotlib.pyplot as plt\n",
    "import plotly.express as px\n",
    "import os\n",
    "import glob\n"
   ]
  },
  {
   "cell_type": "code",
   "execution_count": 12,
   "id": "6638f56b-521e-467c-8499-75f43ecfd46f",
   "metadata": {},
   "outputs": [],
   "source": [
    "def read_files(folder_path, file_extension):\n",
    "    # Create a file path pattern using glob\n",
    "    pattern = os.path.join(folder_path, f\"*.{file_extension}\")\n",
    "    filenames = []\n",
    "\n",
    "    # Use glob to get a list of files matching the pattern\n",
    "    files = glob.glob(pattern)\n",
    "    for file in files:\n",
    "        filenames.append(file.split(\"\\\\\")[1])\n",
    "\n",
    "    # Return the count of matching files\n",
    "    return filenames\n",
    "\n",
    "# Example usage\n",
    "folder_path = \"C:/Users/user/Documents/GitHub/Automotive_Diagnostics/OBD-II-Dataset\"\n",
    "file_extension = \"csv\"\n",
    "\n",
    "data_files = read_files(folder_path, file_extension)\n",
    "# print(data_files)"
   ]
  },
  {
   "cell_type": "code",
   "execution_count": null,
   "id": "13b4e242-c60d-4e96-9b1f-18feb7941a8e",
   "metadata": {},
   "outputs": [],
   "source": []
  },
  {
   "cell_type": "code",
   "execution_count": 86,
   "id": "f819a620-b4b1-4b80-b922-c49f235a1aee",
   "metadata": {
    "scrolled": true
   },
   "outputs": [
    {
     "data": {
      "text/html": [
       "\n",
       "        <iframe\n",
       "            width=\"100%\"\n",
       "            height=\"650\"\n",
       "            src=\"http://127.0.0.1:8051/\"\n",
       "            frameborder=\"0\"\n",
       "            allowfullscreen\n",
       "            \n",
       "        ></iframe>\n",
       "        "
      ],
      "text/plain": [
       "<IPython.lib.display.IFrame at 0x2730c030a00>"
      ]
     },
     "metadata": {},
     "output_type": "display_data"
    },
    {
     "name": "stderr",
     "output_type": "stream",
     "text": [
      "[2024-02-12 14:17:47,241] ERROR in app: Exception on /_dash-update-component [POST]\n",
      "Traceback (most recent call last):\n",
      "  File \"C:\\Users\\user\\AppData\\Local\\Programs\\Python\\Python310\\lib\\site-packages\\flask\\app.py\", line 2529, in wsgi_app\n",
      "    response = self.full_dispatch_request()\n",
      "  File \"C:\\Users\\user\\AppData\\Local\\Programs\\Python\\Python310\\lib\\site-packages\\flask\\app.py\", line 1825, in full_dispatch_request\n",
      "    rv = self.handle_user_exception(e)\n",
      "  File \"C:\\Users\\user\\AppData\\Local\\Programs\\Python\\Python310\\lib\\site-packages\\flask\\app.py\", line 1823, in full_dispatch_request\n",
      "    rv = self.dispatch_request()\n",
      "  File \"C:\\Users\\user\\AppData\\Local\\Programs\\Python\\Python310\\lib\\site-packages\\flask\\app.py\", line 1799, in dispatch_request\n",
      "    return self.ensure_sync(self.view_functions[rule.endpoint])(**view_args)\n",
      "  File \"C:\\Users\\user\\AppData\\Local\\Programs\\Python\\Python310\\lib\\site-packages\\dash\\dash.py\", line 1310, in dispatch\n",
      "    ctx.run(\n",
      "  File \"C:\\Users\\user\\AppData\\Local\\Programs\\Python\\Python310\\lib\\site-packages\\dash\\_callback.py\", line 442, in add_context\n",
      "    output_value = func(*func_args, **func_kwargs)  # %% callback invoked %%\n",
      "  File \"C:\\Users\\user\\AppData\\Local\\Temp\\ipykernel_3200\\3354143562.py\", line 47, in update_data_desc\n",
      "    df = get_data(fname)\n",
      "  File \"C:\\Users\\user\\AppData\\Local\\Temp\\ipykernel_3200\\3354143562.py\", line 38, in get_data\n",
      "    data = pd.read_csv(\"OBD-II-Dataset/\" + file_name)\n",
      "  File \"C:\\Users\\user\\AppData\\Local\\Programs\\Python\\Python310\\lib\\site-packages\\pandas\\util\\_decorators.py\", line 311, in wrapper\n",
      "    return func(*args, **kwargs)\n",
      "  File \"C:\\Users\\user\\AppData\\Local\\Programs\\Python\\Python310\\lib\\site-packages\\pandas\\io\\parsers\\readers.py\", line 680, in read_csv\n",
      "    return _read(filepath_or_buffer, kwds)\n",
      "  File \"C:\\Users\\user\\AppData\\Local\\Programs\\Python\\Python310\\lib\\site-packages\\pandas\\io\\parsers\\readers.py\", line 575, in _read\n",
      "    parser = TextFileReader(filepath_or_buffer, **kwds)\n",
      "  File \"C:\\Users\\user\\AppData\\Local\\Programs\\Python\\Python310\\lib\\site-packages\\pandas\\io\\parsers\\readers.py\", line 933, in __init__\n",
      "    self._engine = self._make_engine(f, self.engine)\n",
      "  File \"C:\\Users\\user\\AppData\\Local\\Programs\\Python\\Python310\\lib\\site-packages\\pandas\\io\\parsers\\readers.py\", line 1217, in _make_engine\n",
      "    self.handles = get_handle(  # type: ignore[call-overload]\n",
      "  File \"C:\\Users\\user\\AppData\\Local\\Programs\\Python\\Python310\\lib\\site-packages\\pandas\\io\\common.py\", line 789, in get_handle\n",
      "    handle = open(\n",
      "PermissionError: [Errno 13] Permission denied: 'OBD-II-Dataset/'\n"
     ]
    }
   ],
   "source": [
    "app = Dash(__name__)\n",
    "origin = \"Nigeria\"\n",
    "destination = \"UK\"\n",
    "cond = \"Normal\"\n",
    "df = pd.read_csv(\"OBD-II-Dataset/2017-07-05_Seat_Leon_RT_S_Stau.csv\")\n",
    "df = df.iloc[10:]\n",
    "df[\"Time\"] = pd.to_datetime(df[\"Time\"])\n",
    "df = df.set_index(\"Time\")\n",
    "df.columns = ['Engine_Coolant_Temperature', 'Intake_Manifold_Abs_Pressure', 'Engine_RPM', 'Vehicle_Speed', 'Intake_Air_Temperature', 'AirFlow_Rate', 'Throttle_Position', 'Air_Temperature', 'Acc_Pedal_Pos_D', 'Acc_Pedal_Pos_E']\n",
    "\n",
    "\n",
    "app.layout = html.Div([\n",
    "    html.H1(\"Automotive Diagnostic Dashboard\"),\n",
    "    \"Select a data to visualise:!\",\n",
    "    dcc.Dropdown(\n",
    "        id=\"file_name\",\n",
    "        options=data_files,\n",
    "        value=\"\"\n",
    "    ),\n",
    "    html.Div([\n",
    "    # html.P(children=[\"...text\", num]) \n",
    "    html.Span(id='origin_loc', children=['Origin: ', origin], style={'flex': '1'}),\n",
    "    html.Span(id='destination_loc', children=['Destination: ', destination], style={'flex': '1', 'text-align': 'center'}),\n",
    "    html.Span(id='cond', children=['Condition: ', cond], style={'align-self': '1', 'text-align': 'right'})\n",
    "    ],style={'display': 'flex', 'justify-content': 'space-between'}),\n",
    "    html.H3(\"Assessing Engine Load\"),\n",
    "    dcc.Graph(\n",
    "        id=\"visual\",\n",
    "        figure=px.scatter(df, x=df['AirFlow_Rate'], y=df['Engine_RPM'])\n",
    "    )\n",
    "])\n",
    "\n",
    "# def produce_plot(filename, x-axis, y-axis):\n",
    "#         plt.figure(figsize=(10,6))\n",
    "        \n",
    "        \n",
    "def get_data(file_name):\n",
    "    data = pd.read_csv(\"OBD-II-Dataset/\" + file_name)\n",
    "    data = data.iloc[10:]\n",
    "    data[\"Time\"] = pd.to_datetime(data[\"Time\"])\n",
    "    data = data.set_index(\"Time\")\n",
    "    data.columns = ['Engine_Coolant_Temperature', 'Intake_Manifold_Abs_Pressure', 'Engine_RPM', 'Vehicle_Speed', 'Intake_Air_Temperature', 'AirFlow_Rate', 'Throttle_Position', 'Air_Temperature', 'Acc_Pedal_Pos_D', 'Acc_Pedal_Pos_E']\n",
    "    return data\n",
    "\n",
    "@app.callback([Output(\"origin_loc\", \"children\"), Output(\"destination_loc\", \"children\"), Output(\"cond\", \"children\")], Input(\"file_name\", \"value\"))\n",
    "def update_data_desc(fname):\n",
    "    df = get_data(fname)\n",
    "    origin_code = {\"KA\":\"Karlsruhe\", \"RT\": \"Reutlingen\", \"S\":\"Stuttgart\", \"BB\":\"Boblingen\"}\n",
    "    dest_code = {\"CW\": \"Calw\", \"KA\":\"Karlsruhe\", \"RT\": \"Reutlingen\", \"S\":\"Stuttgart\", \"BB\":\"Boblingen\"}\n",
    "    cond_code = {\"Stau\": \"Busy\", \"Normal\": \"Normal\", \"Frei\": \"Free\"}\n",
    "    code_list = fname.split(\"_\")\n",
    "    if len(fname) > 1:        \n",
    "        origin = origin_code[code_list[3]]\n",
    "        destination = origin_code[code_list[4]]\n",
    "        if \"Stau\" in fname:\n",
    "            cond = \"Busy\"\n",
    "        elif \"Normal\" in fname:\n",
    "            cond = \"Normal\"\n",
    "        elif \"Frei\" in fname:\n",
    "            cond = \"Free\"\n",
    "    # return f\"File selected: {fname}\"\n",
    "    return ['Origin: ' + origin, ' Destination: ' + destination, ' Condition: ' + cond]\n",
    "\n",
    "if __name__ == \"__main__\":\n",
    "    app.run_server(mode=\"inline\", port=8051)"
   ]
  },
  {
   "cell_type": "code",
   "execution_count": null,
   "id": "ecc08143-dfb3-47ee-8e4b-32044edff69b",
   "metadata": {},
   "outputs": [],
   "source": [
    "\n"
   ]
  },
  {
   "cell_type": "code",
   "execution_count": null,
   "id": "d67f00ac-0100-40da-a7ec-6188fd61f354",
   "metadata": {},
   "outputs": [],
   "source": [
    "\n"
   ]
  },
  {
   "cell_type": "code",
   "execution_count": null,
   "id": "2755762c-6428-4d41-85fb-02c0702e538a",
   "metadata": {},
   "outputs": [],
   "source": []
  }
 ],
 "metadata": {
  "kernelspec": {
   "display_name": "Python 3 (ipykernel)",
   "language": "python",
   "name": "python3"
  },
  "language_info": {
   "codemirror_mode": {
    "name": "ipython",
    "version": 3
   },
   "file_extension": ".py",
   "mimetype": "text/x-python",
   "name": "python",
   "nbconvert_exporter": "python",
   "pygments_lexer": "ipython3",
   "version": "3.10.2"
  }
 },
 "nbformat": 4,
 "nbformat_minor": 5
}
