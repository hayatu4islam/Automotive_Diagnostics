{
 "cells": [
  {
   "cell_type": "markdown",
   "id": "7ec3d08d-30df-4fe0-a908-2cb7063611e2",
   "metadata": {},
   "source": [
    "## Automotive Diagnostics"
   ]
  },
  {
   "cell_type": "code",
   "execution_count": null,
   "id": "51d5d628-426d-4670-b1d8-227bf621b7d6",
   "metadata": {},
   "outputs": [],
   "source": [
    "\n"
   ]
  },
  {
   "cell_type": "markdown",
   "id": "e829d742-8b06-430e-899e-169875cd6ead",
   "metadata": {},
   "source": [
    "##### Importation"
   ]
  },
  {
   "cell_type": "code",
   "execution_count": 1,
   "id": "51810e84-ad35-4655-a477-147b6bb8cb83",
   "metadata": {},
   "outputs": [],
   "source": [
    "import numpy as np\n",
    "import pandas as pd\n",
    "import os\n",
    "import matplotlib.pyplot as plt\n",
    "import seaborn as sns\n"
   ]
  },
  {
   "cell_type": "markdown",
   "id": "3bc0b12a-e5a8-4ac5-8fd2-8c33d323de8b",
   "metadata": {},
   "source": [
    "### Data Exploration"
   ]
  },
  {
   "cell_type": "code",
   "execution_count": 7,
   "id": "5f030f94-13ee-4be6-b2f8-a432ca037708",
   "metadata": {},
   "outputs": [
    {
     "data": {
      "text/html": [
       "<div>\n",
       "<style scoped>\n",
       "    .dataframe tbody tr th:only-of-type {\n",
       "        vertical-align: middle;\n",
       "    }\n",
       "\n",
       "    .dataframe tbody tr th {\n",
       "        vertical-align: top;\n",
       "    }\n",
       "\n",
       "    .dataframe thead th {\n",
       "        text-align: right;\n",
       "    }\n",
       "</style>\n",
       "<table border=\"1\" class=\"dataframe\">\n",
       "  <thead>\n",
       "    <tr style=\"text-align: right;\">\n",
       "      <th></th>\n",
       "      <th>Time</th>\n",
       "      <th>Engine Coolant Temperature [Â°C]</th>\n",
       "      <th>Intake Manifold Absolute Pressure [kPa]</th>\n",
       "      <th>Engine RPM [RPM]</th>\n",
       "      <th>Vehicle Speed Sensor [km/h]</th>\n",
       "      <th>Intake Air Temperature [Â°C]</th>\n",
       "      <th>Air Flow Rate from Mass Flow Sensor [g/s]</th>\n",
       "      <th>Absolute Throttle Position [%]</th>\n",
       "      <th>Ambient Air Temperature [Â°C]</th>\n",
       "      <th>Accelerator Pedal Position D [%]</th>\n",
       "      <th>Accelerator Pedal Position E [%]</th>\n",
       "    </tr>\n",
       "  </thead>\n",
       "  <tbody>\n",
       "    <tr>\n",
       "      <th>0</th>\n",
       "      <td>07:16:30.444</td>\n",
       "      <td>31</td>\n",
       "      <td>NaN</td>\n",
       "      <td>NaN</td>\n",
       "      <td>NaN</td>\n",
       "      <td>NaN</td>\n",
       "      <td>NaN</td>\n",
       "      <td>NaN</td>\n",
       "      <td>NaN</td>\n",
       "      <td>NaN</td>\n",
       "      <td>NaN</td>\n",
       "    </tr>\n",
       "    <tr>\n",
       "      <th>1</th>\n",
       "      <td>07:16:30.535</td>\n",
       "      <td>31</td>\n",
       "      <td>96.0</td>\n",
       "      <td>NaN</td>\n",
       "      <td>NaN</td>\n",
       "      <td>NaN</td>\n",
       "      <td>NaN</td>\n",
       "      <td>NaN</td>\n",
       "      <td>NaN</td>\n",
       "      <td>NaN</td>\n",
       "      <td>NaN</td>\n",
       "    </tr>\n",
       "    <tr>\n",
       "      <th>2</th>\n",
       "      <td>07:16:30.625</td>\n",
       "      <td>31</td>\n",
       "      <td>96.0</td>\n",
       "      <td>0.0</td>\n",
       "      <td>NaN</td>\n",
       "      <td>NaN</td>\n",
       "      <td>NaN</td>\n",
       "      <td>NaN</td>\n",
       "      <td>NaN</td>\n",
       "      <td>NaN</td>\n",
       "      <td>NaN</td>\n",
       "    </tr>\n",
       "    <tr>\n",
       "      <th>3</th>\n",
       "      <td>07:16:30.716</td>\n",
       "      <td>31</td>\n",
       "      <td>96.0</td>\n",
       "      <td>0.0</td>\n",
       "      <td>0.0</td>\n",
       "      <td>NaN</td>\n",
       "      <td>NaN</td>\n",
       "      <td>NaN</td>\n",
       "      <td>NaN</td>\n",
       "      <td>NaN</td>\n",
       "      <td>NaN</td>\n",
       "    </tr>\n",
       "    <tr>\n",
       "      <th>4</th>\n",
       "      <td>07:16:30.814</td>\n",
       "      <td>31</td>\n",
       "      <td>96.0</td>\n",
       "      <td>0.0</td>\n",
       "      <td>0.0</td>\n",
       "      <td>22.0</td>\n",
       "      <td>NaN</td>\n",
       "      <td>NaN</td>\n",
       "      <td>NaN</td>\n",
       "      <td>NaN</td>\n",
       "      <td>NaN</td>\n",
       "    </tr>\n",
       "  </tbody>\n",
       "</table>\n",
       "</div>"
      ],
      "text/plain": [
       "           Time  Engine Coolant Temperature [Â°C]  \\\n",
       "0  07:16:30.444                                31   \n",
       "1  07:16:30.535                                31   \n",
       "2  07:16:30.625                                31   \n",
       "3  07:16:30.716                                31   \n",
       "4  07:16:30.814                                31   \n",
       "\n",
       "   Intake Manifold Absolute Pressure [kPa]  Engine RPM [RPM]  \\\n",
       "0                                      NaN               NaN   \n",
       "1                                     96.0               NaN   \n",
       "2                                     96.0               0.0   \n",
       "3                                     96.0               0.0   \n",
       "4                                     96.0               0.0   \n",
       "\n",
       "   Vehicle Speed Sensor [km/h]  Intake Air Temperature [Â°C]  \\\n",
       "0                          NaN                           NaN   \n",
       "1                          NaN                           NaN   \n",
       "2                          NaN                           NaN   \n",
       "3                          0.0                           NaN   \n",
       "4                          0.0                          22.0   \n",
       "\n",
       "   Air Flow Rate from Mass Flow Sensor [g/s]  Absolute Throttle Position [%]  \\\n",
       "0                                        NaN                             NaN   \n",
       "1                                        NaN                             NaN   \n",
       "2                                        NaN                             NaN   \n",
       "3                                        NaN                             NaN   \n",
       "4                                        NaN                             NaN   \n",
       "\n",
       "   Ambient Air Temperature [Â°C]  Accelerator Pedal Position D [%]  \\\n",
       "0                            NaN                               NaN   \n",
       "1                            NaN                               NaN   \n",
       "2                            NaN                               NaN   \n",
       "3                            NaN                               NaN   \n",
       "4                            NaN                               NaN   \n",
       "\n",
       "   Accelerator Pedal Position E [%]  \n",
       "0                               NaN  \n",
       "1                               NaN  \n",
       "2                               NaN  \n",
       "3                               NaN  \n",
       "4                               NaN  "
      ]
     },
     "execution_count": 7,
     "metadata": {},
     "output_type": "execute_result"
    }
   ],
   "source": [
    "data1 = pd.read_csv(\"OBD-II-Dataset/2017-07-05_Seat_Leon_RT_S_Stau.csv\")\n",
    "# data1 = pd.read_csv(\"OBD-II-Dataset/annotated.csv\")\n",
    "data1.head()"
   ]
  },
  {
   "cell_type": "code",
   "execution_count": 8,
   "id": "b5d0c63b-2913-4abe-8711-8f33755fab91",
   "metadata": {},
   "outputs": [
    {
     "name": "stdout",
     "output_type": "stream",
     "text": [
      "<class 'pandas.core.frame.DataFrame'>\n",
      "RangeIndex: 46349 entries, 0 to 46348\n",
      "Data columns (total 11 columns):\n",
      " #   Column                                     Non-Null Count  Dtype  \n",
      "---  ------                                     --------------  -----  \n",
      " 0   Time                                       46349 non-null  object \n",
      " 1   Engine Coolant Temperature [Â°C]           46349 non-null  int64  \n",
      " 2   Intake Manifold Absolute Pressure [kPa]    46348 non-null  float64\n",
      " 3   Engine RPM [RPM]                           46347 non-null  float64\n",
      " 4   Vehicle Speed Sensor [km/h]                46346 non-null  float64\n",
      " 5   Intake Air Temperature [Â°C]               46345 non-null  float64\n",
      " 6   Air Flow Rate from Mass Flow Sensor [g/s]  46344 non-null  float64\n",
      " 7   Absolute Throttle Position [%]             46343 non-null  float64\n",
      " 8   Ambient Air Temperature [Â°C]              46342 non-null  float64\n",
      " 9   Accelerator Pedal Position D [%]           46341 non-null  float64\n",
      " 10  Accelerator Pedal Position E [%]           46340 non-null  float64\n",
      "dtypes: float64(9), int64(1), object(1)\n",
      "memory usage: 3.9+ MB\n"
     ]
    }
   ],
   "source": [
    "# Number of columns (features)\n",
    "data1.info()"
   ]
  },
  {
   "cell_type": "code",
   "execution_count": null,
   "id": "9d651416-e2bd-4f50-a6e6-af88e68151b5",
   "metadata": {},
   "outputs": [],
   "source": []
  }
 ],
 "metadata": {
  "kernelspec": {
   "display_name": "Python 3 (ipykernel)",
   "language": "python",
   "name": "python3"
  },
  "language_info": {
   "codemirror_mode": {
    "name": "ipython",
    "version": 3
   },
   "file_extension": ".py",
   "mimetype": "text/x-python",
   "name": "python",
   "nbconvert_exporter": "python",
   "pygments_lexer": "ipython3",
   "version": "3.10.2"
  }
 },
 "nbformat": 4,
 "nbformat_minor": 5
}
