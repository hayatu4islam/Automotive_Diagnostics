{
 "cells": [
  {
   "cell_type": "markdown",
   "id": "406e3f0f-9a12-48d4-b931-ea27f2a92536",
   "metadata": {},
   "source": [
    "### Overview of the dataset"
   ]
  },
  {
   "cell_type": "code",
   "execution_count": 3,
   "id": "cd160e5f-a99e-4be1-a281-871f8a940982",
   "metadata": {},
   "outputs": [],
   "source": [
    "import numpy as np\n",
    "import pandas as pd\n",
    "import matplotlib.pyplot as plt\n",
    "import os\n",
    "import glob"
   ]
  },
  {
   "cell_type": "markdown",
   "id": "d2fb4642-f8b8-4d9c-9415-3e695ea402d9",
   "metadata": {},
   "source": [
    "##### How many files in the dataset?"
   ]
  },
  {
   "cell_type": "code",
   "execution_count": 4,
   "id": "9b3c38b2-7c57-4b29-bce4-371f55ce8e9e",
   "metadata": {},
   "outputs": [
    {
     "name": "stdout",
     "output_type": "stream",
     "text": [
      "Number of csv files in C:/Users/user/Documents/GitHub/Automotive_Diagnostics/OBD-II-Dataset is: 81\n"
     ]
    }
   ],
   "source": [
    "### Define function to count the files\n",
    "def count_files(folder_path, file_extension):\n",
    "    # Create a file path pattern using glob\n",
    "    pattern = os.path.join(folder_path, f\"*.{file_extension}\")\n",
    "\n",
    "    # Use glob to get a list of files matching the pattern\n",
    "    files = glob.glob(pattern)\n",
    "\n",
    "    # Return the count of matching files\n",
    "    return len(files)\n",
    "\n",
    "# Example usage\n",
    "folder_path = \"C:/Users/user/Documents/GitHub/Automotive_Diagnostics/OBD-II-Dataset\"\n",
    "file_extension = \"csv\"\n",
    "\n",
    "count = count_files(folder_path, file_extension)\n",
    "print(f\"Number of {file_extension} files in {folder_path} is: {count}\")"
   ]
  },
  {
   "cell_type": "code",
   "execution_count": null,
   "id": "a5f18c20-8ccd-4412-8560-c3300c0752c9",
   "metadata": {},
   "outputs": [],
   "source": []
  }
 ],
 "metadata": {
  "kernelspec": {
   "display_name": "Python 3 (ipykernel)",
   "language": "python",
   "name": "python3"
  },
  "language_info": {
   "codemirror_mode": {
    "name": "ipython",
    "version": 3
   },
   "file_extension": ".py",
   "mimetype": "text/x-python",
   "name": "python",
   "nbconvert_exporter": "python",
   "pygments_lexer": "ipython3",
   "version": "3.10.2"
  }
 },
 "nbformat": 4,
 "nbformat_minor": 5
}
