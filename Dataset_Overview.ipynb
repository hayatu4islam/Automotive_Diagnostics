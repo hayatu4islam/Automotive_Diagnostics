{
 "cells": [
  {
   "cell_type": "markdown",
   "id": "406e3f0f-9a12-48d4-b931-ea27f2a92536",
   "metadata": {},
   "source": [
    "### Overview of the dataset"
   ]
  },
  {
   "cell_type": "code",
   "execution_count": 3,
   "id": "cd160e5f-a99e-4be1-a281-871f8a940982",
   "metadata": {},
   "outputs": [],
   "source": [
    "import numpy as np\n",
    "import pandas as pd\n",
    "import matplotlib.pyplot as plt\n",
    "import os\n",
    "import glob"
   ]
  },
  {
   "cell_type": "markdown",
   "id": "d2fb4642-f8b8-4d9c-9415-3e695ea402d9",
   "metadata": {},
   "source": [
    "##### How many files in the dataset?"
   ]
  },
  {
   "cell_type": "code",
   "execution_count": 4,
   "id": "9b3c38b2-7c57-4b29-bce4-371f55ce8e9e",
   "metadata": {},
   "outputs": [
    {
     "name": "stdout",
     "output_type": "stream",
     "text": [
      "Number of csv files in C:/Users/user/Documents/GitHub/Automotive_Diagnostics/OBD-II-Dataset is: 81\n"
     ]
    }
   ],
   "source": [
    "### Define function to count the files\n",
    "def count_files(folder_path, file_extension):\n",
    "    # Create a file path pattern using glob\n",
    "    pattern = os.path.join(folder_path, f\"*.{file_extension}\")\n",
    "\n",
    "    # Use glob to get a list of files matching the pattern\n",
    "    files = glob.glob(pattern)\n",
    "\n",
    "    # Return the count of matching files\n",
    "    return len(files)\n",
    "\n",
    "# Example usage\n",
    "folder_path = \"C:/Users/user/Documents/GitHub/Automotive_Diagnostics/OBD-II-Dataset\"\n",
    "file_extension = \"csv\"\n",
    "\n",
    "count = count_files(folder_path, file_extension)\n",
    "print(f\"Number of {file_extension} files in {folder_path} is: {count}\")"
   ]
  },
  {
   "cell_type": "code",
   "execution_count": null,
   "id": "a5f18c20-8ccd-4412-8560-c3300c0752c9",
   "metadata": {},
   "outputs": [],
   "source": []
  },
  {
   "cell_type": "markdown",
   "id": "84c2f144-dddc-4d6f-b0bc-1ff9f1b4e0f5",
   "metadata": {},
   "source": [
    "### Identify unique paths"
   ]
  },
  {
   "cell_type": "code",
   "execution_count": 13,
   "id": "a8e97352-e3e8-4aaf-aa93-beab434de879",
   "metadata": {},
   "outputs": [
    {
     "name": "stdout",
     "output_type": "stream",
     "text": [
      "{'Origin': ['RT', 'S', 'KA', 'KA', 'RT', 'S', 'KA', 'KA', 'KA', 'S', 'RT', 'S', 'KA', 'RT', 'KA', 'KA', 'RT', 'RT', 'S', 'KA', 'KA', 'KA', 'KA', 'KA', 'RT', 'KA', 'KA', 'RT', 'S', 'S', 'S', 'KA', 'RT', 'RT', 'S', 'RT', 'S', 'RT', 'S', 'RT', 'S', 'S', 'BB', 'RT', 'RT', 'KA', 'BB', 'KA', 'KA', 'RT', 'RT', 'RT', 'S', 'S', 'KA', 'RT', 'RT', 'KA', 'KA', 'RT', 'S', 'RT', 'S', 'RT', 'KA', 'RT', 'S', 'RT', 'KA', 'RT', 'KA', 'KA', 'RT', 'S', 'RT', 'S', 'RT', 'S', 'KA', 'KA', 'RT'], 'Destination': ['S', 'KA', 'KA', 'RT', 'S', 'RT', 'KA', 'KA', 'S', 'RT', 'S', 'RT', 'KA', 'KA', 'KA', 'RT', 'KA', 'S', 'KA', 'KA', 'KA', 'KA', 'RT', 'KA', 'KA', 'KA', 'RT', 'S', 'RT', 'RT', 'CW', 'RT', 'KA', 'S', 'RT', 'S', 'RT', 'S', 'RT', 'S', 'RT', 'RT', 'RT', 'BB', 'KA', 'KA', 'RT', 'BB', 'KA', 'S', 'RT', 'S', 'RT', 'S', 'KA', 'KA', 'RT', 'KA', 'RT', 'S', 'RT', 'S', 'RT', 'S', 'RT', 'S', 'RT', 'S', 'KA', 'KA', 'KA', 'RT', 'S', 'RT', 'S', 'RT', 'S', 'RT', 'RT', 'KA', 'KA'], 'Travel Path': ['RT_S', 'S_KA', 'KA_KA', 'KA_RT', 'RT_S', 'S_RT', 'KA_KA', 'KA_KA', 'KA_S', 'S_RT', 'RT_S', 'S_RT', 'KA_KA', 'RT_KA', 'KA_KA', 'KA_RT', 'RT_KA', 'RT_S', 'S_KA', 'KA_KA', 'KA_KA', 'KA_KA', 'KA_RT', 'KA_KA', 'RT_KA', 'KA_KA', 'KA_RT', 'RT_S', 'S_RT', 'S_RT', 'S_CW', 'KA_RT', 'RT_KA', 'RT_S', 'S_RT', 'RT_S', 'S_RT', 'RT_S', 'S_RT', 'RT_S', 'S_RT', 'S_RT', 'BB_RT', 'RT_BB', 'RT_KA', 'KA_KA', 'BB_RT', 'KA_BB', 'KA_KA', 'RT_S', 'RT_RT', 'RT_S', 'S_RT', 'S_S', 'KA_KA', 'RT_KA', 'RT_RT', 'KA_KA', 'KA_RT', 'RT_S', 'S_RT', 'RT_S', 'S_RT', 'RT_S', 'KA_RT', 'RT_S', 'S_RT', 'RT_S', 'KA_KA', 'RT_KA', 'KA_KA', 'KA_RT', 'RT_S', 'S_RT', 'RT_S', 'S_RT', 'RT_S', 'S_RT', 'KA_RT', 'KA_KA', 'RT_KA'], 'Unique Origin': {'S', 'RT', 'KA', 'BB'}, 'Unique Destination': {'CW', 'KA', 'RT', 'S', 'BB'}, 'Summary': 'The dataset contains 4 origin, 5 destination and 13 unique paths'}\n"
     ]
    }
   ],
   "source": [
    "def identify_unique_path(folder_path):\n",
    "    travel_path = []\n",
    "    origin = []\n",
    "    destination = []\n",
    "    pattern = os.path.join(folder_path, f\"*.csv\")\n",
    "    filenames = glob.glob(pattern)\n",
    "\n",
    "    for filename in filenames:\n",
    "        components = filename.split('_')\n",
    "        origin.append(components[3])\n",
    "        destination.append(components[4])\n",
    "        travel_path.append(components[3] + '_' + components[4])\n",
    "        \n",
    "    unique_origin = set(origin)\n",
    "    unique_destination = set(destination)\n",
    "    unique_path = set(travel_path)\n",
    "    \n",
    "    return {\n",
    "        \"Origin\": origin,\n",
    "        \"Destination\": destination,\n",
    "        \"Travel Path\": travel_path,\n",
    "        \"Unique Origin\": set(origin),\n",
    "        \"Unique Destination\": set(destination),\n",
    "        \"Summary\": f\"The dataset contains {len(unique_origin)} origin, {len(unique_destination)} destination and {len(unique_path)} unique paths\"\n",
    "    }\n",
    "\n",
    "\n",
    "def identify_path(file_name):\n",
    "    components = file_name.split('_')\n",
    "\n",
    "    origin = components[2]\n",
    "    destination = components[3]\n",
    "    cond = components[4]\n",
    "    return {\n",
    "        \"Origin\": origin,\n",
    "        \"Destination\": destination,\n",
    "        \"Condition\": cond\n",
    "    }\n",
    "\n",
    "file_path = \"OBD-II-Dataset/2017-07-05_Seat_Leon_RT_S_Stau.csv\"\n",
    "file_name = file_path.split('/')[-1]\n",
    "# print(identify_path(file_name))\n",
    "\n",
    "folder_path = \"OBD-II-Dataset\"\n",
    "print(identify_unique_path(folder_path))\n"
   ]
  },
  {
   "cell_type": "markdown",
   "id": "fdaff693-c418-40b2-8349-f60277fd457b",
   "metadata": {},
   "source": [
    "##### Origin\n",
    "* KA = Karlsruhe\n",
    "* RT = Reutlingen\n",
    "* S = Stuttgart\n",
    "* BB = Boblingen\n",
    "\n",
    "##### Destination\n",
    "* CW = Calw\n",
    "* KA = Karlsruhe\n",
    "* RT = Reutlingen\n",
    "* S = Stuttgart\n",
    "* BB = Boblingen"
   ]
  },
  {
   "cell_type": "markdown",
   "id": "10bf7840-5516-4b41-9ac7-de97243bd99e",
   "metadata": {},
   "source": [
    "#### Investigate the distribution of the data files based on their conditions"
   ]
  },
  {
   "cell_type": "code",
   "execution_count": 36,
   "id": "add429b0-ec7e-4f48-870a-c43391dada3e",
   "metadata": {},
   "outputs": [
    {
     "name": "stdout",
     "output_type": "stream",
     "text": [
      "{'Free condition': 14, 'Normal': 56, 'Busy': 11}\n"
     ]
    }
   ],
   "source": [
    "def check_condition(folder_path):\n",
    "    n_free,n_normal,n_busy = 0,0,0\n",
    "    file_pattern = os.path.join(folder_path, f\"*.csv\")\n",
    "    filenames = glob.glob(file_pattern)\n",
    "\n",
    "    for filename in filenames:\n",
    "        if \"Frei\" in filename:\n",
    "            n_free += 1        \n",
    "        elif \"Normal\" in filename:\n",
    "            n_normal += 1\n",
    "        elif \"Stau\" in filename:\n",
    "            n_busy += 1\n",
    "\n",
    "    return {\n",
    "        \"Free condition\": n_free,\n",
    "        \"Normal\": n_normal,\n",
    "        \"Busy\": n_busy\n",
    "    }\n",
    "\n",
    "file_path = \"OBD-II-Dataset\"\n",
    "print(check_condition(file_path))\n",
    "    "
   ]
  },
  {
   "cell_type": "markdown",
   "id": "57000c44-3630-47b8-9226-49894ad21586",
   "metadata": {},
   "source": [
    "#### Identify the frequency of each path"
   ]
  },
  {
   "cell_type": "code",
   "execution_count": null,
   "id": "3d83577f-99e0-4a16-846c-5bcf7c96b310",
   "metadata": {},
   "outputs": [],
   "source": []
  }
 ],
 "metadata": {
  "kernelspec": {
   "display_name": "Python 3 (ipykernel)",
   "language": "python",
   "name": "python3"
  },
  "language_info": {
   "codemirror_mode": {
    "name": "ipython",
    "version": 3
   },
   "file_extension": ".py",
   "mimetype": "text/x-python",
   "name": "python",
   "nbconvert_exporter": "python",
   "pygments_lexer": "ipython3",
   "version": "3.10.2"
  }
 },
 "nbformat": 4,
 "nbformat_minor": 5
}
